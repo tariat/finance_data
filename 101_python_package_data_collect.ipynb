{
 "cells": [
  {
   "cell_type": "markdown",
   "metadata": {},
   "source": [
    "# 파이썬 패키지를 이용하여 데이터 수집하기"
   ]
  },
  {
   "cell_type": "markdown",
   "metadata": {},
   "source": [
    "## pandas data-reader 이용하기"
   ]
  },
  {
   "cell_type": "markdown",
   "metadata": {},
   "source": [
    "###  주가데이터 받기"
   ]
  },
  {
   "cell_type": "code",
   "execution_count": 3,
   "metadata": {},
   "outputs": [
    {
     "data": {
      "text/html": [
       "<div>\n",
       "<style scoped>\n",
       "    .dataframe tbody tr th:only-of-type {\n",
       "        vertical-align: middle;\n",
       "    }\n",
       "\n",
       "    .dataframe tbody tr th {\n",
       "        vertical-align: top;\n",
       "    }\n",
       "\n",
       "    .dataframe thead th {\n",
       "        text-align: right;\n",
       "    }\n",
       "</style>\n",
       "<table border=\"1\" class=\"dataframe\">\n",
       "  <thead>\n",
       "    <tr style=\"text-align: right;\">\n",
       "      <th></th>\n",
       "      <th></th>\n",
       "      <th>adjClose</th>\n",
       "      <th>adjHigh</th>\n",
       "      <th>adjLow</th>\n",
       "      <th>adjOpen</th>\n",
       "      <th>adjVolume</th>\n",
       "      <th>close</th>\n",
       "      <th>divCash</th>\n",
       "      <th>high</th>\n",
       "      <th>low</th>\n",
       "      <th>open</th>\n",
       "      <th>splitFactor</th>\n",
       "      <th>volume</th>\n",
       "    </tr>\n",
       "    <tr>\n",
       "      <th>symbol</th>\n",
       "      <th>date</th>\n",
       "      <th></th>\n",
       "      <th></th>\n",
       "      <th></th>\n",
       "      <th></th>\n",
       "      <th></th>\n",
       "      <th></th>\n",
       "      <th></th>\n",
       "      <th></th>\n",
       "      <th></th>\n",
       "      <th></th>\n",
       "      <th></th>\n",
       "      <th></th>\n",
       "    </tr>\n",
       "  </thead>\n",
       "  <tbody>\n",
       "    <tr>\n",
       "      <th rowspan=\"5\" valign=\"top\">GOOG</th>\n",
       "      <th>2014-12-30 00:00:00+00:00</th>\n",
       "      <td>530.42</td>\n",
       "      <td>531.150</td>\n",
       "      <td>527.13</td>\n",
       "      <td>528.09</td>\n",
       "      <td>873923</td>\n",
       "      <td>530.42</td>\n",
       "      <td>0.0</td>\n",
       "      <td>531.150</td>\n",
       "      <td>527.13</td>\n",
       "      <td>528.09</td>\n",
       "      <td>1.0</td>\n",
       "      <td>873923</td>\n",
       "    </tr>\n",
       "    <tr>\n",
       "      <th>2014-12-31 00:00:00+00:00</th>\n",
       "      <td>526.40</td>\n",
       "      <td>532.600</td>\n",
       "      <td>525.80</td>\n",
       "      <td>531.25</td>\n",
       "      <td>1371819</td>\n",
       "      <td>526.40</td>\n",
       "      <td>0.0</td>\n",
       "      <td>532.600</td>\n",
       "      <td>525.80</td>\n",
       "      <td>531.25</td>\n",
       "      <td>1.0</td>\n",
       "      <td>1371819</td>\n",
       "    </tr>\n",
       "    <tr>\n",
       "      <th>2015-01-02 00:00:00+00:00</th>\n",
       "      <td>524.81</td>\n",
       "      <td>531.270</td>\n",
       "      <td>524.10</td>\n",
       "      <td>529.01</td>\n",
       "      <td>1446662</td>\n",
       "      <td>524.81</td>\n",
       "      <td>0.0</td>\n",
       "      <td>531.270</td>\n",
       "      <td>524.10</td>\n",
       "      <td>529.01</td>\n",
       "      <td>1.0</td>\n",
       "      <td>1446662</td>\n",
       "    </tr>\n",
       "    <tr>\n",
       "      <th>2015-01-05 00:00:00+00:00</th>\n",
       "      <td>513.87</td>\n",
       "      <td>524.330</td>\n",
       "      <td>513.06</td>\n",
       "      <td>523.26</td>\n",
       "      <td>2054238</td>\n",
       "      <td>513.87</td>\n",
       "      <td>0.0</td>\n",
       "      <td>524.330</td>\n",
       "      <td>513.06</td>\n",
       "      <td>523.26</td>\n",
       "      <td>1.0</td>\n",
       "      <td>2054238</td>\n",
       "    </tr>\n",
       "    <tr>\n",
       "      <th>2015-01-06 00:00:00+00:00</th>\n",
       "      <td>501.96</td>\n",
       "      <td>516.175</td>\n",
       "      <td>501.05</td>\n",
       "      <td>515.00</td>\n",
       "      <td>2891950</td>\n",
       "      <td>501.96</td>\n",
       "      <td>0.0</td>\n",
       "      <td>516.175</td>\n",
       "      <td>501.05</td>\n",
       "      <td>515.00</td>\n",
       "      <td>1.0</td>\n",
       "      <td>2891950</td>\n",
       "    </tr>\n",
       "  </tbody>\n",
       "</table>\n",
       "</div>"
      ],
      "text/plain": [
       "                                  adjClose  adjHigh  adjLow  adjOpen  \\\n",
       "symbol date                                                            \n",
       "GOOG   2014-12-30 00:00:00+00:00    530.42  531.150  527.13   528.09   \n",
       "       2014-12-31 00:00:00+00:00    526.40  532.600  525.80   531.25   \n",
       "       2015-01-02 00:00:00+00:00    524.81  531.270  524.10   529.01   \n",
       "       2015-01-05 00:00:00+00:00    513.87  524.330  513.06   523.26   \n",
       "       2015-01-06 00:00:00+00:00    501.96  516.175  501.05   515.00   \n",
       "\n",
       "                                  adjVolume   close  divCash     high     low  \\\n",
       "symbol date                                                                     \n",
       "GOOG   2014-12-30 00:00:00+00:00     873923  530.42      0.0  531.150  527.13   \n",
       "       2014-12-31 00:00:00+00:00    1371819  526.40      0.0  532.600  525.80   \n",
       "       2015-01-02 00:00:00+00:00    1446662  524.81      0.0  531.270  524.10   \n",
       "       2015-01-05 00:00:00+00:00    2054238  513.87      0.0  524.330  513.06   \n",
       "       2015-01-06 00:00:00+00:00    2891950  501.96      0.0  516.175  501.05   \n",
       "\n",
       "                                    open  splitFactor   volume  \n",
       "symbol date                                                     \n",
       "GOOG   2014-12-30 00:00:00+00:00  528.09          1.0   873923  \n",
       "       2014-12-31 00:00:00+00:00  531.25          1.0  1371819  \n",
       "       2015-01-02 00:00:00+00:00  529.01          1.0  1446662  \n",
       "       2015-01-05 00:00:00+00:00  523.26          1.0  2054238  \n",
       "       2015-01-06 00:00:00+00:00  515.00          1.0  2891950  "
      ]
     },
     "execution_count": 3,
     "metadata": {},
     "output_type": "execute_result"
    }
   ],
   "source": [
    "import pandas_datareader as pdr\n",
    "\n",
    "TINGO_API_KEY = \"c179c68a459f2347a84e20f77926f6840a9150be\"\n",
    "df = pdr.get_data_tiingo('GOOG', api_key=TINGO_API_KEY)\n",
    "df.head()\n"
   ]
  },
  {
   "cell_type": "code",
   "execution_count": 5,
   "metadata": {},
   "outputs": [
    {
     "data": {
      "text/plain": [
       "<matplotlib.axes._subplots.AxesSubplot at 0x1a215846d8>"
      ]
     },
     "execution_count": 5,
     "metadata": {},
     "output_type": "execute_result"
    },
    {
     "data": {
      "image/png": "[encoded data removed]",
      "text/plain": [
       "<Figure size 432x288 with 1 Axes>"
      ]
     },
     "metadata": {
      "needs_background": "light"
     },
     "output_type": "display_data"
    }
   ],
   "source": [
    "import seaborn as sns\n",
    "\n",
    "sns.lineplot(x=df.index.levels[1], y=\"adjClose\", data=df)"
   ]
  },
  {
   "cell_type": "markdown",
   "metadata": {},
   "source": [
    "### 주가지수 데이터"
   ]
  },
  {
   "cell_type": "code",
   "execution_count": 31,
   "metadata": {},
   "outputs": [
    {
     "data": {
      "text/plain": [
       "<matplotlib.axes._subplots.AxesSubplot at 0x1a19466748>"
      ]
     },
     "execution_count": 31,
     "metadata": {},
     "output_type": "execute_result"
    },
    {
     "data": {
      "image/png": "[encoded data removed]",
      "text/plain": [
       "<Figure size 432x288 with 1 Axes>"
      ]
     },
     "metadata": {
      "needs_background": "light"
     },
     "output_type": "display_data"
    }
   ],
   "source": [
    "import pandas_datareader.data as web\n",
    "\n",
    "df = web.DataReader('^KOSPI', 'stooq')\n",
    "sns.lineplot(x=df.index, y=\"Close\", data=df)"
   ]
  },
  {
   "cell_type": "markdown",
   "metadata": {},
   "source": [
    "### 환율 데이터"
   ]
  },
  {
   "cell_type": "code",
   "execution_count": 5,
   "metadata": {},
   "outputs": [
    {
     "data": {
      "text/html": [
       "<div>\n",
       "<style scoped>\n",
       "    .dataframe tbody tr th:only-of-type {\n",
       "        vertical-align: middle;\n",
       "    }\n",
       "\n",
       "    .dataframe tbody tr th {\n",
       "        vertical-align: top;\n",
       "    }\n",
       "\n",
       "    .dataframe thead th {\n",
       "        text-align: right;\n",
       "    }\n",
       "</style>\n",
       "<table border=\"1\" class=\"dataframe\">\n",
       "  <thead>\n",
       "    <tr style=\"text-align: right;\">\n",
       "      <th></th>\n",
       "      <th>USD/KRW</th>\n",
       "    </tr>\n",
       "  </thead>\n",
       "  <tbody>\n",
       "    <tr>\n",
       "      <th>From_Currency Code</th>\n",
       "      <td>USD</td>\n",
       "    </tr>\n",
       "    <tr>\n",
       "      <th>From_Currency Name</th>\n",
       "      <td>United States Dollar</td>\n",
       "    </tr>\n",
       "    <tr>\n",
       "      <th>To_Currency Code</th>\n",
       "      <td>KRW</td>\n",
       "    </tr>\n",
       "    <tr>\n",
       "      <th>To_Currency Name</th>\n",
       "      <td>South Korean Won</td>\n",
       "    </tr>\n",
       "    <tr>\n",
       "      <th>Exchange Rate</th>\n",
       "      <td>1157.50000000</td>\n",
       "    </tr>\n",
       "  </tbody>\n",
       "</table>\n",
       "</div>"
      ],
      "text/plain": [
       "                                 USD/KRW\n",
       "From_Currency Code                   USD\n",
       "From_Currency Name  United States Dollar\n",
       "To_Currency Code                     KRW\n",
       "To_Currency Name        South Korean Won\n",
       "Exchange Rate              1157.50000000"
      ]
     },
     "execution_count": 5,
     "metadata": {},
     "output_type": "execute_result"
    }
   ],
   "source": [
    "import pandas_datareader.data as web\n",
    "\n",
    "ALPHAVANTAGE_API_KEY = \"c179c68a459f2347a84e20f77926f6840a9150be\"\n",
    "df_1 = web.DataReader(\"USD/KRW\", \"av-forex\", api_key=ALPHAVANTAGE_API_KEY)\n",
    "df_1.head()"
   ]
  },
  {
   "cell_type": "markdown",
   "metadata": {},
   "source": [
    "### 원자재 가격 데이터"
   ]
  },
  {
   "cell_type": "code",
   "execution_count": 33,
   "metadata": {},
   "outputs": [
    {
     "data": {
      "text/html": [
       "<div>\n",
       "<style scoped>\n",
       "    .dataframe tbody tr th:only-of-type {\n",
       "        vertical-align: middle;\n",
       "    }\n",
       "\n",
       "    .dataframe tbody tr th {\n",
       "        vertical-align: top;\n",
       "    }\n",
       "\n",
       "    .dataframe thead th {\n",
       "        text-align: right;\n",
       "    }\n",
       "</style>\n",
       "<table border=\"1\" class=\"dataframe\">\n",
       "  <thead>\n",
       "    <tr style=\"text-align: right;\">\n",
       "      <th></th>\n",
       "      <th>DCOILWTICO</th>\n",
       "    </tr>\n",
       "    <tr>\n",
       "      <th>DATE</th>\n",
       "      <th></th>\n",
       "    </tr>\n",
       "  </thead>\n",
       "  <tbody>\n",
       "    <tr>\n",
       "      <th>2015-01-01</th>\n",
       "      <td>NaN</td>\n",
       "    </tr>\n",
       "    <tr>\n",
       "      <th>2015-01-02</th>\n",
       "      <td>52.72</td>\n",
       "    </tr>\n",
       "    <tr>\n",
       "      <th>2015-01-05</th>\n",
       "      <td>50.05</td>\n",
       "    </tr>\n",
       "    <tr>\n",
       "      <th>2015-01-06</th>\n",
       "      <td>47.98</td>\n",
       "    </tr>\n",
       "    <tr>\n",
       "      <th>2015-01-07</th>\n",
       "      <td>48.69</td>\n",
       "    </tr>\n",
       "  </tbody>\n",
       "</table>\n",
       "</div>"
      ],
      "text/plain": [
       "            DCOILWTICO\n",
       "DATE                  \n",
       "2015-01-01         NaN\n",
       "2015-01-02       52.72\n",
       "2015-01-05       50.05\n",
       "2015-01-06       47.98\n",
       "2015-01-07       48.69"
      ]
     },
     "execution_count": 33,
     "metadata": {},
     "output_type": "execute_result"
    }
   ],
   "source": [
    "import pandas_datareader.data as web\n",
    "import datetime\n",
    "\n",
    "start = datetime.datetime(2015, 1, 1)\n",
    "end = datetime.datetime(2019, 12, 31)\n",
    "\n",
    "oil = web.DataReader('DCOILWTICO', 'fred', start, end)\n",
    "oil.head()"
   ]
  },
  {
   "cell_type": "markdown",
   "metadata": {},
   "source": [
    "### 그외 경제지표 데이터"
   ]
  },
  {
   "cell_type": "code",
   "execution_count": 136,
   "metadata": {},
   "outputs": [
    {
     "data": {
      "text/html": [
       "<div>\n",
       "<style scoped>\n",
       "    .dataframe tbody tr th:only-of-type {\n",
       "        vertical-align: middle;\n",
       "    }\n",
       "\n",
       "    .dataframe tbody tr th {\n",
       "        vertical-align: top;\n",
       "    }\n",
       "\n",
       "    .dataframe thead th {\n",
       "        text-align: right;\n",
       "    }\n",
       "</style>\n",
       "<table border=\"1\" class=\"dataframe\">\n",
       "  <thead>\n",
       "    <tr style=\"text-align: right;\">\n",
       "      <th></th>\n",
       "      <th>id</th>\n",
       "      <th>name</th>\n",
       "      <th>source</th>\n",
       "      <th>sourceNote</th>\n",
       "      <th>sourceOrganization</th>\n",
       "      <th>topics</th>\n",
       "      <th>unit</th>\n",
       "    </tr>\n",
       "  </thead>\n",
       "  <tbody>\n",
       "    <tr>\n",
       "      <th>646</th>\n",
       "      <td>6.0.GDPpc_constant</td>\n",
       "      <td>GDP per capita, PPP (constant 2011 internation...</td>\n",
       "      <td>LAC Equity Lab</td>\n",
       "      <td>GDP per capita based on purchasing power parit...</td>\n",
       "      <td>b'World Development Indicators (World Bank)'</td>\n",
       "      <td>Economy &amp; Growth</td>\n",
       "      <td></td>\n",
       "    </tr>\n",
       "    <tr>\n",
       "      <th>9165</th>\n",
       "      <td>NY.GDP.PCAP.KD</td>\n",
       "      <td>GDP per capita (constant 2010 US$)</td>\n",
       "      <td>World Development Indicators</td>\n",
       "      <td>GDP per capita is gross domestic product divid...</td>\n",
       "      <td>b'World Bank national accounts data, and OECD ...</td>\n",
       "      <td>Economy &amp; Growth</td>\n",
       "      <td></td>\n",
       "    </tr>\n",
       "    <tr>\n",
       "      <th>9167</th>\n",
       "      <td>NY.GDP.PCAP.KN</td>\n",
       "      <td>GDP per capita (constant LCU)</td>\n",
       "      <td>World Development Indicators</td>\n",
       "      <td>GDP per capita is gross domestic product divid...</td>\n",
       "      <td>b'World Bank national accounts data, and OECD ...</td>\n",
       "      <td>Economy &amp; Growth</td>\n",
       "      <td></td>\n",
       "    </tr>\n",
       "    <tr>\n",
       "      <th>9169</th>\n",
       "      <td>NY.GDP.PCAP.PP.KD</td>\n",
       "      <td>GDP per capita, PPP (constant 2011 internation...</td>\n",
       "      <td>World Development Indicators</td>\n",
       "      <td>GDP per capita based on purchasing power parit...</td>\n",
       "      <td>b'World Bank, International Comparison Program...</td>\n",
       "      <td>Economy &amp; Growth</td>\n",
       "      <td></td>\n",
       "    </tr>\n",
       "    <tr>\n",
       "      <th>9170</th>\n",
       "      <td>NY.GDP.PCAP.PP.KD.87</td>\n",
       "      <td>GDP per capita, PPP (constant 1987 internation...</td>\n",
       "      <td>WDI Database Archives</td>\n",
       "      <td></td>\n",
       "      <td>b''</td>\n",
       "      <td></td>\n",
       "      <td></td>\n",
       "    </tr>\n",
       "  </tbody>\n",
       "</table>\n",
       "</div>"
      ],
      "text/plain": [
       "                        id                                               name  \\\n",
       "646     6.0.GDPpc_constant  GDP per capita, PPP (constant 2011 internation...   \n",
       "9165        NY.GDP.PCAP.KD                 GDP per capita (constant 2010 US$)   \n",
       "9167        NY.GDP.PCAP.KN                      GDP per capita (constant LCU)   \n",
       "9169     NY.GDP.PCAP.PP.KD  GDP per capita, PPP (constant 2011 internation...   \n",
       "9170  NY.GDP.PCAP.PP.KD.87  GDP per capita, PPP (constant 1987 internation...   \n",
       "\n",
       "                            source  \\\n",
       "646                 LAC Equity Lab   \n",
       "9165  World Development Indicators   \n",
       "9167  World Development Indicators   \n",
       "9169  World Development Indicators   \n",
       "9170         WDI Database Archives   \n",
       "\n",
       "                                             sourceNote  \\\n",
       "646   GDP per capita based on purchasing power parit...   \n",
       "9165  GDP per capita is gross domestic product divid...   \n",
       "9167  GDP per capita is gross domestic product divid...   \n",
       "9169  GDP per capita based on purchasing power parit...   \n",
       "9170                                                      \n",
       "\n",
       "                                     sourceOrganization            topics unit  \n",
       "646        b'World Development Indicators (World Bank)'  Economy & Growth       \n",
       "9165  b'World Bank national accounts data, and OECD ...  Economy & Growth       \n",
       "9167  b'World Bank national accounts data, and OECD ...  Economy & Growth       \n",
       "9169  b'World Bank, International Comparison Program...  Economy & Growth       \n",
       "9170                                                b''                         "
      ]
     },
     "execution_count": 136,
     "metadata": {},
     "output_type": "execute_result"
    }
   ],
   "source": [
    "from pandas_datareader import wb\n",
    "\n",
    "wb.search('gdp.*capita.*const')"
   ]
  },
  {
   "cell_type": "code",
   "execution_count": 142,
   "metadata": {},
   "outputs": [
    {
     "data": {
      "text/plain": [
       "<matplotlib.axes._subplots.AxesSubplot at 0x1a1cbabac8>"
      ]
     },
     "execution_count": 142,
     "metadata": {},
     "output_type": "execute_result"
    },
    {
     "data": {
      "image/png": "[encoded data removed]",
      "text/plain": [
       "<Figure size 432x288 with 1 Axes>"
      ]
     },
     "metadata": {
      "needs_background": "light"
     },
     "output_type": "display_data"
    }
   ],
   "source": [
    "code = \"NY.GDP.PCAP.PP.KD\"\n",
    "matches = wb.search('gdp.*capita.*const')\n",
    "data = wb.download(indicator=code, country=['JPN', 'KOR'], start=2011, end=2018)\n",
    "data = data.reset_index(drop=False)\n",
    "sns.lineplot(x=\"year\", y=code, hue=\"country\", data=data)"
   ]
  },
  {
   "cell_type": "markdown",
   "metadata": {},
   "source": [
    "## finance datareader 사용하기"
   ]
  },
  {
   "cell_type": "markdown",
   "metadata": {},
   "source": [
    "### 전체 종목코드 수집하기"
   ]
  },
  {
   "cell_type": "code",
   "execution_count": 146,
   "metadata": {},
   "outputs": [
    {
     "data": {
      "text/html": [
       "<div>\n",
       "<style scoped>\n",
       "    .dataframe tbody tr th:only-of-type {\n",
       "        vertical-align: middle;\n",
       "    }\n",
       "\n",
       "    .dataframe tbody tr th {\n",
       "        vertical-align: top;\n",
       "    }\n",
       "\n",
       "    .dataframe thead th {\n",
       "        text-align: right;\n",
       "    }\n",
       "</style>\n",
       "<table border=\"1\" class=\"dataframe\">\n",
       "  <thead>\n",
       "    <tr style=\"text-align: right;\">\n",
       "      <th></th>\n",
       "      <th>Symbol</th>\n",
       "      <th>Name</th>\n",
       "      <th>Sector</th>\n",
       "      <th>Industry</th>\n",
       "    </tr>\n",
       "  </thead>\n",
       "  <tbody>\n",
       "    <tr>\n",
       "      <th>0</th>\n",
       "      <td>155660</td>\n",
       "      <td>DSR</td>\n",
       "      <td>1차 비철금속 제조업</td>\n",
       "      <td>합섬섬유로프</td>\n",
       "    </tr>\n",
       "    <tr>\n",
       "      <th>1</th>\n",
       "      <td>001250</td>\n",
       "      <td>GS글로벌</td>\n",
       "      <td>상품 종합 도매업</td>\n",
       "      <td>수출입업(시멘트,철강금속,전기전자,섬유,기계화학),상품중개,광업,채석업/하수처리 서...</td>\n",
       "    </tr>\n",
       "    <tr>\n",
       "      <th>2</th>\n",
       "      <td>082740</td>\n",
       "      <td>HSD엔진</td>\n",
       "      <td>일반 목적용 기계 제조업</td>\n",
       "      <td>대형선박용엔진,내연발전엔진</td>\n",
       "    </tr>\n",
       "    <tr>\n",
       "      <th>3</th>\n",
       "      <td>011070</td>\n",
       "      <td>LG이노텍</td>\n",
       "      <td>전자부품 제조업</td>\n",
       "      <td>기타 전자부품 제조업</td>\n",
       "    </tr>\n",
       "    <tr>\n",
       "      <th>4</th>\n",
       "      <td>010060</td>\n",
       "      <td>OCI</td>\n",
       "      <td>기초 화학물질 제조업</td>\n",
       "      <td>타르제품,카본블랙,무수프탈산,농약원제,석탄화학제품,정밀화학제품,플라스틱창호재 제조,판매</td>\n",
       "    </tr>\n",
       "  </tbody>\n",
       "</table>\n",
       "</div>"
      ],
      "text/plain": [
       "   Symbol   Name         Sector  \\\n",
       "0  155660    DSR    1차 비철금속 제조업   \n",
       "1  001250  GS글로벌      상품 종합 도매업   \n",
       "2  082740  HSD엔진  일반 목적용 기계 제조업   \n",
       "3  011070  LG이노텍       전자부품 제조업   \n",
       "4  010060    OCI    기초 화학물질 제조업   \n",
       "\n",
       "                                            Industry  \n",
       "0                                             합섬섬유로프  \n",
       "1  수출입업(시멘트,철강금속,전기전자,섬유,기계화학),상품중개,광업,채석업/하수처리 서...  \n",
       "2                                     대형선박용엔진,내연발전엔진  \n",
       "3                                        기타 전자부품 제조업  \n",
       "4   타르제품,카본블랙,무수프탈산,농약원제,석탄화학제품,정밀화학제품,플라스틱창호재 제조,판매  "
      ]
     },
     "execution_count": 146,
     "metadata": {},
     "output_type": "execute_result"
    }
   ],
   "source": [
    "import FinanceDataReader as fdr\n",
    "\n",
    "# KOSPI 종목 전체\n",
    "kospi_cd = fdr.StockListing('KOSPI')\n",
    "kospi_cd.head()"
   ]
  },
  {
   "cell_type": "code",
   "execution_count": 166,
   "metadata": {},
   "outputs": [
    {
     "data": {
      "text/html": [
       "<div>\n",
       "<style scoped>\n",
       "    .dataframe tbody tr th:only-of-type {\n",
       "        vertical-align: middle;\n",
       "    }\n",
       "\n",
       "    .dataframe tbody tr th {\n",
       "        vertical-align: top;\n",
       "    }\n",
       "\n",
       "    .dataframe thead th {\n",
       "        text-align: right;\n",
       "    }\n",
       "</style>\n",
       "<table border=\"1\" class=\"dataframe\">\n",
       "  <thead>\n",
       "    <tr style=\"text-align: right;\">\n",
       "      <th></th>\n",
       "      <th>Symbol</th>\n",
       "      <th>Name</th>\n",
       "      <th>Sector</th>\n",
       "      <th>Industry</th>\n",
       "    </tr>\n",
       "  </thead>\n",
       "  <tbody>\n",
       "    <tr>\n",
       "      <th>352</th>\n",
       "      <td>005930</td>\n",
       "      <td>삼성전자</td>\n",
       "      <td>통신 및 방송 장비 제조업</td>\n",
       "      <td>IMT2000 서비스용 동기식 기지국,교환국장비,데이터단말기,동영상휴대폰,핵심칩,반...</td>\n",
       "    </tr>\n",
       "  </tbody>\n",
       "</table>\n",
       "</div>"
      ],
      "text/plain": [
       "     Symbol  Name          Sector  \\\n",
       "352  005930  삼성전자  통신 및 방송 장비 제조업   \n",
       "\n",
       "                                              Industry  \n",
       "352  IMT2000 서비스용 동기식 기지국,교환국장비,데이터단말기,동영상휴대폰,핵심칩,반...  "
      ]
     },
     "execution_count": 166,
     "metadata": {},
     "output_type": "execute_result"
    }
   ],
   "source": [
    "kospi_cd.loc[kospi_cd[\"Name\"].str.find(\"삼성전자\")>-1]"
   ]
  },
  {
   "cell_type": "code",
   "execution_count": 167,
   "metadata": {},
   "outputs": [
    {
     "data": {
      "text/plain": [
       "<matplotlib.axes._subplots.AxesSubplot at 0x1a1aae1860>"
      ]
     },
     "execution_count": 167,
     "metadata": {},
     "output_type": "execute_result"
    },
    {
     "data": {
      "image/png": "[encoded data removed]",
      "text/plain": [
       "<Figure size 432x288 with 1 Axes>"
      ]
     },
     "metadata": {
      "needs_background": "light"
     },
     "output_type": "display_data"
    }
   ],
   "source": [
    "import seaborn as sns\n",
    "\n",
    "df = fdr.DataReader(\"005930\", '2019')\n",
    "sns.lineplot(x=df.index, y=df[\"Close\"])"
   ]
  }
 ],
 "metadata": {
  "kernelspec": {
   "display_name": "Python 3",
   "language": "python",
   "name": "python3"
  },
  "language_info": {
   "codemirror_mode": {
    "name": "ipython",
    "version": 3
   },
   "file_extension": ".py",
   "mimetype": "text/x-python",
   "name": "python",
   "nbconvert_exporter": "python",
   "pygments_lexer": "ipython3",
   "version": "3.7.3"
  },
  "toc": {
   "base_numbering": 1,
   "nav_menu": {},
   "number_sections": true,
   "sideBar": true,
   "skip_h1_title": false,
   "title_cell": "Table of Contents",
   "title_sidebar": "Contents",
   "toc_cell": false,
   "toc_position": {},
   "toc_section_display": true,
   "toc_window_display": true
  }
 },
 "nbformat": 4,
 "nbformat_minor": 2
}
